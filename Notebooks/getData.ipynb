{
 "cells": [
  {
   "cell_type": "code",
   "execution_count": null,
   "metadata": {},
   "outputs": [],
   "source": [
    "import requests\n",
    "from bs4 import BeautifulSoup\n",
    "import pandas as pd"
   ]
  },
  {
   "cell_type": "code",
   "execution_count": null,
   "metadata": {},
   "outputs": [],
   "source": [
    "def scrape_livingcost_tables(city: str, country: str, region: str = None, groups: list = None) -> pd.DataFrame:\n",
    "    city_url = city.lower().replace(\" \", \"-\")\n",
    "    country_url = country.lower().replace(\" \", \"-\")\n",
    "    region_url = region.lower().replace(\" \", \"-\") if region else \"\"\n",
    "\n",
    "    if region_url:\n",
    "        url = f\"https://livingcost.org/cost/{country_url}/{region_url}/{city_url}\"\n",
    "    else:\n",
    "        url = f\"https://livingcost.org/cost/{country_url}/{city_url}\"\n",
    "\n",
    "    \n",
    "    page = requests.get(url)\n",
    "    soup = BeautifulSoup(page.text, 'html.parser')\n",
    "\n",
    "    target_groups = set(groups) if groups else set()\n",
    "    tables = soup.find_all(\"table\")\n",
    "    records = []\n",
    "\n",
    "    for table in tables:\n",
    "        caption = table.find(\"caption\")\n",
    "        if not caption:\n",
    "            continue\n",
    "        group = caption.get_text(strip=True)\n",
    "        if target_groups and group not in target_groups:\n",
    "            continue  # Skip if not a desired group\n",
    "\n",
    "        rows = table.find_all(\"tr\")\n",
    "        for row in rows:\n",
    "            cols = row.find_all([\"td\", \"th\"])\n",
    "            if len(cols) == 2:\n",
    "                item = cols[0].get_text(strip=True)\n",
    "                price_span = cols[1].find(\"span\", attrs={\"data-usd\": True})\n",
    "                price = price_span.get_text(strip=True) if price_span else \"N/A\"\n",
    "                records.append([group, item, price, city.title(), country.title()])\n",
    "\n",
    "    df = pd.DataFrame(records, columns=[\"Group\", \"Category\", \"Price\", \"City\", \"Country\"])\n",
    "    return df\n"
   ]
  },
  {
   "cell_type": "code",
   "execution_count": null,
   "metadata": {},
   "outputs": [],
   "source": [
    "cities = [\n",
    "    {\"city\": \"Berlin\", \"country\": \"Germany\", \"region\": \"bb\", \"filename\": \"berlin_living_cost.csv\"},\n",
    "    {\"city\": \"Hamburg\", \"country\": \"Germany\", \"region\": \"hh\", \"filename\": \"hamburg_living_cost.csv\"},\n",
    "    {\"city\": \"Munich\", \"country\": \"Germany\", \"region\": \"by\", \"filename\": \"munich_living_cost.csv\"},\n",
    "    {\"city\": \"Cologne\", \"country\": \"Germany\", \"region\": \"nw\", \"filename\": \"cologne_living_cost.csv\"},\n",
    "    {\"city\": \"Frankfurt\", \"country\": \"Germany\", \"region\": \"he\", \"filename\": \"frankfurt_living_cost.csv\"},\n",
    "    {\"city\": \"Cape-Town\", \"country\": \"South-Africa\", \"region\": \"\", \"filename\": \"capeTown_living_cost.csv\"},\n",
    "    {\"city\": \"Johannesburg\", \"country\": \"South-Africa\", \"region\": \"\", \"filename\": \"johannesburg_living_cost.csv\"},\n",
    "    {\"city\": \"Durban\", \"country\": \"South-Africa\", \"region\": \"\", \"filename\": \"durban_living_cost.csv\"},\n",
    "    {\"city\": \"Pretoria\", \"country\": \"South-Africa\", \"region\": \"\", \"filename\": \"pretoria_living_cost.csv\"},\n",
    "    {\"city\": \"Ggeberha\", \"country\": \"South-Africa\", \"region\": \"\", \"filename\": \"geberha_living_cost.csv\"}\n",
    "\n",
    "]\n",
    "\n",
    "groups_to_extract = [\"Eating Out\", \"Rent & Utilities\", \"Groceries\", \"Transportation\", \"Other\"]\n",
    "\n",
    "# Stack all data together\n",
    "all_data = []\n",
    "\n",
    "for loc in cities:\n",
    "    df = scrape_livingcost_tables(\n",
    "        city=loc[\"city\"],\n",
    "        country=loc[\"country\"],\n",
    "        region=loc[\"region\"],\n",
    "        groups=groups_to_extract\n",
    "    )\n",
    "    all_data.append(df)\n",
    "\n",
    "# 🧩 Combine into one big DataFrame\n",
    "df_combined = pd.concat(all_data, ignore_index=True)\n",
    "\n",
    "# 💾 Save to CSV\n",
    "df_combined.to_csv(\"../data/living_cost_combined.csv\", index=False)\n",
    "print(\"All city data combined and saved.\")\n"
   ]
  }
 ],
 "metadata": {
  "kernelspec": {
   "display_name": "base",
   "language": "python",
   "name": "python3"
  },
  "language_info": {
   "codemirror_mode": {
    "name": "ipython",
    "version": 3
   },
   "file_extension": ".py",
   "mimetype": "text/x-python",
   "name": "python",
   "nbconvert_exporter": "python",
   "pygments_lexer": "ipython3",
   "version": "3.12.3"
  }
 },
 "nbformat": 4,
 "nbformat_minor": 2
}
